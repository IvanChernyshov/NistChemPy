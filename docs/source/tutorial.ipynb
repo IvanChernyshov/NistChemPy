{
 "cells": [
  {
   "cell_type": "markdown",
   "id": "73cc5915",
   "metadata": {},
   "source": [
    "# NistChemPy Tutorial\n",
    "\n",
    "## Compound and Spectrum\n",
    "\n",
    "To get NIST compound initialize `Compound` object with NIST ID. The main properties including name, chemical formula, InChI, and links to physico-chemical data will be parsed:"
   ]
  },
  {
   "cell_type": "code",
   "execution_count": 1,
   "id": "e9ada870",
   "metadata": {},
   "outputs": [
    {
     "data": {
      "text/plain": [
       "{'ID': 'C85018',\n",
       " 'name': 'Phenanthrene',\n",
       " 'synonyms': ['Phenanthren', 'Phenanthrin', 'Phenantrin'],\n",
       " 'formula': 'C14 H10',\n",
       " 'mol_weight': 178.2292,\n",
       " 'inchi': 'InChI=1S/C14H10/c1-3-7-13-11(5-1)9-10-12-6-2-4-8-14(12)13/h1-10H',\n",
       " 'inchi_key': 'YNPNZTXNASCQKK-UHFFFAOYSA-N',\n",
       " 'cas_rn': '85-01-8',\n",
       " 'IR': [],\n",
       " 'TZ': [],\n",
       " 'MS': [],\n",
       " 'UV': [],\n",
       " 'mol2D': None,\n",
       " 'mol3D': None,\n",
       " 'data_refs': {'mol2D': 'https://webbook.nist.gov/cgi/cbook.cgi?Str2File=C85018',\n",
       "  'mol3D': 'https://webbook.nist.gov/cgi/cbook.cgi?Str3File=C85018',\n",
       "  'cTG': ['https://webbook.nist.gov/cgi/cbook.cgi?ID=C85018&Units=SI&Mask=1#Thermo-Gas'],\n",
       "  'cTC': ['https://webbook.nist.gov/cgi/cbook.cgi?ID=C85018&Units=SI&Mask=2#Thermo-Condensed'],\n",
       "  'cTP': ['https://webbook.nist.gov/cgi/cbook.cgi?ID=C85018&Units=SI&Mask=4#Thermo-Phase'],\n",
       "  'cTR': ['https://webbook.nist.gov/cgi/cbook.cgi?ID=C85018&Units=SI&Mask=8#Thermo-React'],\n",
       "  'cSO': ['https://webbook.nist.gov/cgi/cbook.cgi?ID=C85018&Units=SI&Mask=10#Solubility'],\n",
       "  'cIE': ['https://webbook.nist.gov/cgi/cbook.cgi?ID=C85018&Units=SI&Mask=20#Ion-Energetics'],\n",
       "  'cIC': ['https://webbook.nist.gov/cgi/cbook.cgi?ID=C85018&Units=SI&Mask=40#Ion-Cluster'],\n",
       "  'cIR': ['https://webbook.nist.gov/cgi/cbook.cgi?ID=C85018&Units=SI&Mask=80#IR-Spec'],\n",
       "  'cMS': ['https://webbook.nist.gov/cgi/cbook.cgi?ID=C85018&Units=SI&Mask=200#Mass-Spec'],\n",
       "  'cUV': ['https://webbook.nist.gov/cgi/cbook.cgi?ID=C85018&Units=SI&Mask=400#UV-Vis-Spec'],\n",
       "  'cGC': ['https://webbook.nist.gov/cgi/cbook.cgi?ID=C85018&Units=SI&Mask=2000#Gas-Chrom']}}"
      ]
     },
     "execution_count": 1,
     "metadata": {},
     "output_type": "execute_result"
    }
   ],
   "source": [
    "import nistchempy as nist\n",
    "X = nist.Compound('C85018')\n",
    "X.__dict__"
   ]
  },
  {
   "cell_type": "markdown",
   "id": "1f07886f",
   "metadata": {},
   "source": [
    "Abbreviations of available data types can be viewed using the `print_search_params` function:"
   ]
  },
  {
   "cell_type": "code",
   "execution_count": 2,
   "id": "106804f3",
   "metadata": {},
   "outputs": [
    {
     "name": "stdout",
     "output_type": "stream",
     "text": [
      "Units      :   Units for thermodynamic data, \"SI\" or \"CAL\" for calorie-based\n",
      "MatchIso   :   Exactly match the specified isotopes (formula search only)\n",
      "AllowOther :   Allow elements not specified in formula (formula search only)\n",
      "AllowExtra :   Allow more atoms of elements in formula than specified (formula search only)\n",
      "NoIon      :   Exclude ions from the search (formula search only)\n",
      "cTG        :   Contains gas-phase thermodynamic data\n",
      "cTC        :   Contains condensed-phase thermodynamic data\n",
      "cTP        :   Contains phase-change thermodynamic data\n",
      "cTR        :   Contains reaction thermodynamic data\n",
      "cIE        :   Contains ion energetics thermodynamic data\n",
      "cIC        :   Contains ion cluster thermodynamic data\n",
      "cIR        :   Contains IR data\n",
      "cTZ        :   Contains THz IR data\n",
      "cMS        :   Contains MS data\n",
      "cUV        :   Contains UV/Vis data\n",
      "cGC        :   Contains gas chromatography data\n",
      "cES        :   Contains vibrational and electronic energy levels\n",
      "cDI        :   Contains constants of diatomic molecules\n",
      "cSO        :   Contains info on Henry's law\n"
     ]
    }
   ],
   "source": [
    "nist.print_search_parameters()"
   ]
  },
  {
   "cell_type": "markdown",
   "id": "6bc36359",
   "metadata": {},
   "source": [
    "MOL files containing 2D and 3D coordinates and spectroscopic data will not be loaded due to the additional request required for each property. They can be downloaded later:"
   ]
  },
  {
   "cell_type": "code",
   "execution_count": 3,
   "id": "eebfc20b",
   "metadata": {},
   "outputs": [
    {
     "name": "stdout",
     "output_type": "stream",
     "text": [
      "\n",
      "  NIST    07011517253D 1   1.00000  -539.53865\n",
      "Copyright by the U.S. Sec. Commerce on behalf of U.S.A. All rights reserved.\n",
      " 24 26  0  0  0  0  0  0  0  0999 V2000\n",
      "    4.2671    4.2111    6.0319 C    0  0  0  0  0  0  0  0  0  0  0  0\n",
      "    3.4011    3.3615    5.3683 C    0  0  0  0  0  0  0  0  0  0  0  0\n",
      "    3.4337    3.2256    3.9602 C    0  0  0  0  0  0  0  0  0  0  0  0\n",
      "    5.2115    4.9687    5.3136 C    0  0  0  0  0  0  0  0  0  0  0  0\n",
      "    5.2684    4.8584    3.9386 C    0  0  0  0  0  0  0  0  0  0  0  0\n",
      "    4.3927    3.9962    3.2378 C    0  0  0  0  0  0  0  0  0  0  0  0\n",
      "    4.4609    3.8894    1.8079 C    0  0  0  0  0  0  0  0  0  0  0  0\n",
      "    2.5375    2.3405    3.2259 C    0  0  0  0  0  0  0  0  0  0  0  0\n",
      "    2.6439    2.2686    1.8051 C    0  0  0  0  0  0  0  0  0  0  0  0\n",
      "    1.5565    1.5396    3.8570 C    0  0  0  0  0  0  0  0  0  0  0  0\n",
      "    3.6253    3.0639    1.1234 C    0  0  0  0  0  0  0  0  0  0  0  0\n",
      "    1.7801    1.4135    1.0811 C    0  \n"
     ]
    }
   ],
   "source": [
    "X.get_3D() # X.get_2d() for 2D coordinates\n",
    "print(X.mol3D[:1000])"
   ]
  },
  {
   "cell_type": "code",
   "execution_count": 4,
   "id": "96ef503d",
   "metadata": {},
   "outputs": [
    {
     "data": {
      "text/plain": [
       "[Spectrum(C85018, IR spectrum #0),\n",
       " Spectrum(C85018, IR spectrum #1),\n",
       " Spectrum(C85018, IR spectrum #2),\n",
       " Spectrum(C85018, IR spectrum #3),\n",
       " Spectrum(C85018, IR spectrum #4)]"
      ]
     },
     "execution_count": 4,
     "metadata": {},
     "output_type": "execute_result"
    }
   ],
   "source": [
    "X.get_spectra('IR')\n",
    "X.IR"
   ]
  },
  {
   "cell_type": "markdown",
   "id": "b183a068",
   "metadata": {},
   "source": [
    "The spectra are stored as a list, and each contains the text of a JCAMP-DX file:"
   ]
  },
  {
   "cell_type": "code",
   "execution_count": 5,
   "id": "17a2f820",
   "metadata": {},
   "outputs": [
    {
     "name": "stdout",
     "output_type": "stream",
     "text": [
      "Compound(C85018) IR 2\n",
      "====================\n",
      "##TITLE=PHENANTHRENE\n",
      "##JCAMP-DX=4.24\n",
      "##DATA TYPE=INFRARED SPECTRUM\n",
      "##CLASS=COBLENTZ\n",
      "##ORIGIN=CENTRE D'ETUDES NUCLEAIRES DE GRENOBLE\n",
      "##OWNER=COBLENTZ SOCIETY\n",
      "Collection (C) 2018 copyright by the U.S. Secretary of Commerce\n",
      "on behalf of the United States of America. All rights reserved.\n",
      "##DATE=Not specified, most likely prior to 1970\n",
      "##CAS REGISTRY NO=85-01-8\n",
      "##MOLFORM=C14 H10\n",
      "##SOURCE REFERENCE=COBLENTZ NO. 4253\n",
      "##$NIST SOURCE=COBLENTZ\n",
      "##$NIST IMAGE=cob4253\n",
      "##SPECTROMETER/DATA SYSTEM=Not specified, most likely a prism, grating, or hybrid spectrometer.\n",
      "##STATE=SOLUTION (SATURATED IN HEPTANE)\n",
      "##PATH LENGTH=0.05 CM\n",
      "$$PURITY 99.99%\n",
      "##SAMPLING PROCEDURE=TRANSMISSION\n",
      "##RESOLUTION=4\n",
      "##DATA PROCESSING=DIGITIZED BY NIST FROM HARD COPY\n",
      "##XUNITS=MICROMETERS\n",
      "##YUNITS=TRANSMITTANCE\n",
      "##XFACTOR=1.000000\n",
      "##YFACTOR=1\n",
      "##DELTAX=000.011124\n",
      "##FIRSTX=14.665\n",
      "##LASTX=35.1221\n",
      "##FIRSTY=0.843\n",
      "##MAXX=35.1221\n",
      "##MINX=14.665\n",
      "##MAXY=0.93\n",
      "##MINY=0.358\n",
      "##NPOINTS=1840\n",
      "##XYDATA=(X++(Y..Y))\n",
      "14.665000 0.8430 0.8430 0.8450 0.8\n"
     ]
    }
   ],
   "source": [
    "spec = X.IR[2]\n",
    "print(spec.compound, spec.spec_type, spec.spec_idx)\n",
    "print('='*20)\n",
    "print(spec.jdx_text[:1000])"
   ]
  },
  {
   "cell_type": "markdown",
   "id": "c9e3a4a6",
   "metadata": {},
   "source": [
    "## Search\n",
    "\n",
    "There are four available search types: by [name](https://webbook.nist.gov/chemistry/name-ser/), [InChI](https://webbook.nist.gov/chemistry/inchi-ser/), [CAS RN](https://webbook.nist.gov/chemistry/cas-ser/), and [chemical formula](https://webbook.nist.gov/chemistry/form-ser/). In addition to the main identifier, you can limit the search using several parameters, which can be using the `print_search_params` function:"
   ]
  },
  {
   "cell_type": "code",
   "execution_count": 6,
   "id": "77787d19",
   "metadata": {},
   "outputs": [
    {
     "name": "stdout",
     "output_type": "stream",
     "text": [
      "Units      :   Units for thermodynamic data, \"SI\" or \"CAL\" for calorie-based\n",
      "MatchIso   :   Exactly match the specified isotopes (formula search only)\n",
      "AllowOther :   Allow elements not specified in formula (formula search only)\n",
      "AllowExtra :   Allow more atoms of elements in formula than specified (formula search only)\n",
      "NoIon      :   Exclude ions from the search (formula search only)\n",
      "cTG        :   Contains gas-phase thermodynamic data\n",
      "cTC        :   Contains condensed-phase thermodynamic data\n",
      "cTP        :   Contains phase-change thermodynamic data\n",
      "cTR        :   Contains reaction thermodynamic data\n",
      "cIE        :   Contains ion energetics thermodynamic data\n",
      "cIC        :   Contains ion cluster thermodynamic data\n",
      "cIR        :   Contains IR data\n",
      "cTZ        :   Contains THz IR data\n",
      "cMS        :   Contains MS data\n",
      "cUV        :   Contains UV/Vis data\n",
      "cGC        :   Contains gas chromatography data\n",
      "cES        :   Contains vibrational and electronic energy levels\n",
      "cDI        :   Contains constants of diatomic molecules\n",
      "cSO        :   Contains info on Henry's law\n"
     ]
    }
   ],
   "source": [
    "nist.print_search_parameters()"
   ]
  },
  {
   "cell_type": "markdown",
   "id": "9e73ff08",
   "metadata": {},
   "source": [
    "These options can be specified when initializing the `Search` object or later in the find_compounds method as `**kwargs`:"
   ]
  },
  {
   "cell_type": "code",
   "execution_count": 7,
   "id": "99f4a811",
   "metadata": {},
   "outputs": [
    {
     "data": {
      "text/plain": [
       "SearchParameters(Units=SI, NoIon=True, cMS=True)"
      ]
     },
     "execution_count": 7,
     "metadata": {},
     "output_type": "execute_result"
    }
   ],
   "source": [
    "search = nist.Search(NoIon = True, cMS = True)\n",
    "search.parameters"
   ]
  },
  {
   "cell_type": "markdown",
   "id": "16ee93f3",
   "metadata": {},
   "source": [
    "After setting parameters you can start searching compounds. Let's start with the name search. Search object have four properties, which are updated after each run of `find_compounds` method:\n",
    "* `success`: was the search successful?\n",
    "* `lost`: did the search stay within the limit of 400 compounds?\n",
    "* `IDs`: NIST IDs of found compounds (`Compound` objects are not initialized here to prevent wasting time on internet requests);\n",
    "* `compounds`: list of `Compound` objects, which is empty after search."
   ]
  },
  {
   "cell_type": "code",
   "execution_count": 8,
   "id": "d8a41351",
   "metadata": {},
   "outputs": [
    {
     "name": "stdout",
     "output_type": "stream",
     "text": [
      "Search(Success=True, Lost=False, Found=4)\n",
      "True False ['C1871585', 'C298180', 'C1529686', 'C1464535'] []\n"
     ]
    }
   ],
   "source": [
    "search.find_compounds(identifier = '1,2,3*-butane', search_type = 'name')\n",
    "print(search)\n",
    "print(search.success, search.lost, search.IDs, search.compounds)"
   ]
  },
  {
   "cell_type": "markdown",
   "id": "3ddb9f34",
   "metadata": {},
   "source": [
    "After search finished, you can initialize `Compound` objects:"
   ]
  },
  {
   "cell_type": "code",
   "execution_count": 9,
   "id": "5b761c5b",
   "metadata": {},
   "outputs": [
    {
     "name": "stdout",
     "output_type": "stream",
     "text": [
      "[Compound(C1871585), Compound(C298180), Compound(C1529686), Compound(C1464535)]\n",
      "Propane, 1,2,3-trichloro-2-methyl-\n",
      "['1,2,3-Trichloro-2-methylpropane', '1,2,3-Trichloroisobutane']\n"
     ]
    }
   ],
   "source": [
    "search.load_found_compounds()\n",
    "print(search.compounds)\n",
    "print(search.compounds[0].name)\n",
    "print(search.compounds[0].synonyms)"
   ]
  },
  {
   "cell_type": "markdown",
   "id": "06bf9558",
   "metadata": {},
   "source": [
    "Search by CAS registry number and InChI ignores some search parameters. Let's exemplify this on AgCl. Even though there are no available MS data for AgCl, the output contains it:"
   ]
  },
  {
   "cell_type": "code",
   "execution_count": 10,
   "id": "fa5e59c3",
   "metadata": {},
   "outputs": [
    {
     "data": {
      "text/plain": [
       "SearchParameters(Units=SI, NoIon=True, cMS=True)"
      ]
     },
     "execution_count": 10,
     "metadata": {},
     "output_type": "execute_result"
    }
   ],
   "source": [
    "search.find_compounds('7783-90-6', 'cas')\n",
    "search.parameters"
   ]
  },
  {
   "cell_type": "code",
   "execution_count": 11,
   "id": "e7c8c596",
   "metadata": {},
   "outputs": [
    {
     "data": {
      "text/plain": [
       "{'mol2D': 'https://webbook.nist.gov/cgi/cbook.cgi?Str2File=C7783906',\n",
       " 'mol3D': 'https://webbook.nist.gov/cgi/cbook.cgi?Str3File=C7783906',\n",
       " 'cTC': ['https://webbook.nist.gov/cgi/cbook.cgi?ID=C7783906&Units=SI&Mask=2#Thermo-Condensed'],\n",
       " 'cTP': ['https://webbook.nist.gov/cgi/cbook.cgi?ID=C7783906&Units=SI&Mask=4#Thermo-Phase'],\n",
       " 'cTR': ['https://webbook.nist.gov/cgi/cbook.cgi?ID=C7783906&Units=SI&Mask=8#Thermo-React'],\n",
       " 'cIE': ['https://webbook.nist.gov/cgi/cbook.cgi?ID=C7783906&Units=SI&Mask=20#Ion-Energetics'],\n",
       " 'cDI': ['https://webbook.nist.gov/cgi/cbook.cgi?ID=C7783906&Units=SI&Mask=1000#Diatomic']}"
      ]
     },
     "execution_count": 11,
     "metadata": {},
     "output_type": "execute_result"
    }
   ],
   "source": [
    "search.load_found_compounds()\n",
    "X = search.compounds[0]\n",
    "X.data_refs"
   ]
  },
  {
   "cell_type": "markdown",
   "id": "8be1edb0",
   "metadata": {},
   "source": [
    "Search by chemical formula is the most powerful way of retrieving data. The only problem is the possibility that the number of found entries will exceed the limit of 400 compounds. To check if this happened, you need to get the `lost` property:"
   ]
  },
  {
   "cell_type": "code",
   "execution_count": 12,
   "id": "191aed3e",
   "metadata": {},
   "outputs": [
    {
     "data": {
      "text/plain": [
       "Search(Success=True, Lost=True, Found=400)"
      ]
     },
     "execution_count": 12,
     "metadata": {},
     "output_type": "execute_result"
    }
   ],
   "source": [
    "search = nist.Search(NoIon = True, cMS = True)\n",
    "search.find_compounds('C6H*O?', 'formula')\n",
    "search"
   ]
  },
  {
   "cell_type": "markdown",
   "id": "c7466a73",
   "metadata": {},
   "source": [
    "To overcome that when searching for a large number of substances, try to break the chemical formula into subsets:"
   ]
  },
  {
   "cell_type": "code",
   "execution_count": 13,
   "id": "d24573fb",
   "metadata": {},
   "outputs": [
    {
     "data": {
      "text/plain": [
       "[(170, False), (178, False), (80, False), (42, False), (7, False), (24, False)]"
      ]
     },
     "execution_count": 13,
     "metadata": {},
     "output_type": "execute_result"
    }
   ],
   "source": [
    "overflows = []\n",
    "for i in range(1, 7):\n",
    "    search.find_compounds(f'C6H?O{i}', 'formula')\n",
    "    overflows.append( (len(search.IDs), search.lost) )\n",
    "overflows"
   ]
  },
  {
   "cell_type": "markdown",
   "id": "e0da51d0",
   "metadata": {},
   "source": [
    "This strategy can be used to combine search results and use the found identifiers to collect spectroscopic data.\n",
    "\n",
    "## Extracted data on NIST compounds\n",
    "\n",
    "Limiting search results to 400 substances and the impossibility to create an external API for the search by substructure brings significant inconvenience to the search process. To overcome this problem, we extracted all NIST Chemistry WebBook compounds using the [sitemap](https://webbook.nist.gov/sitemap_index.xml) and organized the data as a pandas data frame. It consists of 24 columns:\n",
    "* columns **1–7** contains the compound description:"
   ]
  },
  {
   "cell_type": "code",
   "execution_count": 14,
   "id": "b3567315",
   "metadata": {},
   "outputs": [
    {
     "data": {
      "text/html": [
       "<div>\n",
       "<style scoped>\n",
       "    .dataframe tbody tr th:only-of-type {\n",
       "        vertical-align: middle;\n",
       "    }\n",
       "\n",
       "    .dataframe tbody tr th {\n",
       "        vertical-align: top;\n",
       "    }\n",
       "\n",
       "    .dataframe thead th {\n",
       "        text-align: right;\n",
       "    }\n",
       "</style>\n",
       "<table border=\"1\" class=\"dataframe\">\n",
       "  <thead>\n",
       "    <tr style=\"text-align: right;\">\n",
       "      <th></th>\n",
       "      <th>ID</th>\n",
       "      <th>name</th>\n",
       "      <th>formula</th>\n",
       "      <th>mol_weight</th>\n",
       "      <th>inchi</th>\n",
       "      <th>inchi_key</th>\n",
       "      <th>cas_rn</th>\n",
       "    </tr>\n",
       "  </thead>\n",
       "  <tbody>\n",
       "    <tr>\n",
       "      <th>0</th>\n",
       "      <td>B100</td>\n",
       "      <td>iron oxide anion</td>\n",
       "      <td>FeO-</td>\n",
       "      <td>71.8450</td>\n",
       "      <td>&lt;NA&gt;</td>\n",
       "      <td>&lt;NA&gt;</td>\n",
       "      <td>&lt;NA&gt;</td>\n",
       "    </tr>\n",
       "    <tr>\n",
       "      <th>1</th>\n",
       "      <td>B1000</td>\n",
       "      <td>AsF3..Cl anion</td>\n",
       "      <td>AsClF3-</td>\n",
       "      <td>167.3700</td>\n",
       "      <td>&lt;NA&gt;</td>\n",
       "      <td>&lt;NA&gt;</td>\n",
       "      <td>&lt;NA&gt;</td>\n",
       "    </tr>\n",
       "    <tr>\n",
       "      <th>2</th>\n",
       "      <td>B1000000</td>\n",
       "      <td>AgH2-</td>\n",
       "      <td>AgH2-</td>\n",
       "      <td>109.8846</td>\n",
       "      <td>&lt;NA&gt;</td>\n",
       "      <td>&lt;NA&gt;</td>\n",
       "      <td>&lt;NA&gt;</td>\n",
       "    </tr>\n",
       "    <tr>\n",
       "      <th>3</th>\n",
       "      <td>B1000001</td>\n",
       "      <td>HAg(H2)</td>\n",
       "      <td>AgH3</td>\n",
       "      <td>110.8920</td>\n",
       "      <td>&lt;NA&gt;</td>\n",
       "      <td>&lt;NA&gt;</td>\n",
       "      <td>&lt;NA&gt;</td>\n",
       "    </tr>\n",
       "    <tr>\n",
       "      <th>4</th>\n",
       "      <td>B1000002</td>\n",
       "      <td>AgNO+</td>\n",
       "      <td>AgNO+</td>\n",
       "      <td>137.8738</td>\n",
       "      <td>&lt;NA&gt;</td>\n",
       "      <td>&lt;NA&gt;</td>\n",
       "      <td>&lt;NA&gt;</td>\n",
       "    </tr>\n",
       "    <tr>\n",
       "      <th>...</th>\n",
       "      <td>...</td>\n",
       "      <td>...</td>\n",
       "      <td>...</td>\n",
       "      <td>...</td>\n",
       "      <td>...</td>\n",
       "      <td>...</td>\n",
       "      <td>...</td>\n",
       "    </tr>\n",
       "    <tr>\n",
       "      <th>129000</th>\n",
       "      <td>U99777</td>\n",
       "      <td>Methyl 3-hydroxycholest-5-en-26-oate, TMS deri...</td>\n",
       "      <td>C31 H54 O3 Si</td>\n",
       "      <td>502.8442</td>\n",
       "      <td>InChI=1S/C31H54O3Si/c1-21(10-9-11-22(2)29(32)3...</td>\n",
       "      <td>DNXGNXYNSBCWGX-QBUYVTDMSA-N</td>\n",
       "      <td>&lt;NA&gt;</td>\n",
       "    </tr>\n",
       "    <tr>\n",
       "      <th>129001</th>\n",
       "      <td>U99830</td>\n",
       "      <td>2-Methyl-3-oxovaleric acid, O,O'-bis(trimethyl...</td>\n",
       "      <td>C12 H26 O3 Si2</td>\n",
       "      <td>274.5040</td>\n",
       "      <td>InChI=1S/C12H26O3Si2/c1-9-11(14-16(3,4)5)10(2)...</td>\n",
       "      <td>LXAIQDVPXKOIGO-KHPPLWFESA-N</td>\n",
       "      <td>&lt;NA&gt;</td>\n",
       "    </tr>\n",
       "    <tr>\n",
       "      <th>129002</th>\n",
       "      <td>U99942</td>\n",
       "      <td>3-Hydroxy-3-(4'-hydroxy-3'-methoxyphenyl)propi...</td>\n",
       "      <td>C19 H36 O5 Si3</td>\n",
       "      <td>428.7426</td>\n",
       "      <td>InChI=1S/C19H36O5Si3/c1-21-18-13-15(11-12-16(1...</td>\n",
       "      <td>QCMUGKOFXVYNCF-UHFFFAOYSA-N</td>\n",
       "      <td>&lt;NA&gt;</td>\n",
       "    </tr>\n",
       "    <tr>\n",
       "      <th>129003</th>\n",
       "      <td>U99947</td>\n",
       "      <td>2-Propylpentanoic acid, 2,3,4,6-tetra(trimethy...</td>\n",
       "      <td>C26 H58 O7 Si4</td>\n",
       "      <td>595.0765</td>\n",
       "      <td>InChI=1S/C26H58O7Si4/c1-15-17-20(18-16-2)25(27...</td>\n",
       "      <td>OVXMRISJDUWFKB-UHFFFAOYSA-N</td>\n",
       "      <td>&lt;NA&gt;</td>\n",
       "    </tr>\n",
       "    <tr>\n",
       "      <th>129004</th>\n",
       "      <td>x</td>\n",
       "      <td>Y5O2 radical</td>\n",
       "      <td>O2 Y5</td>\n",
       "      <td>476.5281</td>\n",
       "      <td>&lt;NA&gt;</td>\n",
       "      <td>&lt;NA&gt;</td>\n",
       "      <td>&lt;NA&gt;</td>\n",
       "    </tr>\n",
       "  </tbody>\n",
       "</table>\n",
       "<p>129005 rows × 7 columns</p>\n",
       "</div>"
      ],
      "text/plain": [
       "              ID                                               name  \\\n",
       "0           B100                                   iron oxide anion   \n",
       "1          B1000                                     AsF3..Cl anion   \n",
       "2       B1000000                                              AgH2-   \n",
       "3       B1000001                                            HAg(H2)   \n",
       "4       B1000002                                              AgNO+   \n",
       "...          ...                                                ...   \n",
       "129000    U99777  Methyl 3-hydroxycholest-5-en-26-oate, TMS deri...   \n",
       "129001    U99830  2-Methyl-3-oxovaleric acid, O,O'-bis(trimethyl...   \n",
       "129002    U99942  3-Hydroxy-3-(4'-hydroxy-3'-methoxyphenyl)propi...   \n",
       "129003    U99947  2-Propylpentanoic acid, 2,3,4,6-tetra(trimethy...   \n",
       "129004         x                                       Y5O2 radical   \n",
       "\n",
       "               formula  mol_weight  \\\n",
       "0                 FeO-     71.8450   \n",
       "1              AsClF3-    167.3700   \n",
       "2                AgH2-    109.8846   \n",
       "3                 AgH3    110.8920   \n",
       "4                AgNO+    137.8738   \n",
       "...                ...         ...   \n",
       "129000   C31 H54 O3 Si    502.8442   \n",
       "129001  C12 H26 O3 Si2    274.5040   \n",
       "129002  C19 H36 O5 Si3    428.7426   \n",
       "129003  C26 H58 O7 Si4    595.0765   \n",
       "129004           O2 Y5    476.5281   \n",
       "\n",
       "                                                    inchi  \\\n",
       "0                                                    <NA>   \n",
       "1                                                    <NA>   \n",
       "2                                                    <NA>   \n",
       "3                                                    <NA>   \n",
       "4                                                    <NA>   \n",
       "...                                                   ...   \n",
       "129000  InChI=1S/C31H54O3Si/c1-21(10-9-11-22(2)29(32)3...   \n",
       "129001  InChI=1S/C12H26O3Si2/c1-9-11(14-16(3,4)5)10(2)...   \n",
       "129002  InChI=1S/C19H36O5Si3/c1-21-18-13-15(11-12-16(1...   \n",
       "129003  InChI=1S/C26H58O7Si4/c1-15-17-20(18-16-2)25(27...   \n",
       "129004                                               <NA>   \n",
       "\n",
       "                          inchi_key cas_rn  \n",
       "0                              <NA>   <NA>  \n",
       "1                              <NA>   <NA>  \n",
       "2                              <NA>   <NA>  \n",
       "3                              <NA>   <NA>  \n",
       "4                              <NA>   <NA>  \n",
       "...                             ...    ...  \n",
       "129000  DNXGNXYNSBCWGX-QBUYVTDMSA-N   <NA>  \n",
       "129001  LXAIQDVPXKOIGO-KHPPLWFESA-N   <NA>  \n",
       "129002  QCMUGKOFXVYNCF-UHFFFAOYSA-N   <NA>  \n",
       "129003  OVXMRISJDUWFKB-UHFFFAOYSA-N   <NA>  \n",
       "129004                         <NA>   <NA>  \n",
       "\n",
       "[129005 rows x 7 columns]"
      ]
     },
     "execution_count": 14,
     "metadata": {},
     "output_type": "execute_result"
    }
   ],
   "source": [
    "df = nist.get_all_data()\n",
    "df.loc[:, df.columns[:7]]"
   ]
  },
  {
   "cell_type": "markdown",
   "id": "e2e5261f",
   "metadata": {},
   "source": [
    "* columns **8–23** correspond to the available compound properties, including atomic coordinates, spectra, and thermodynamic data (for the full description see the `print_search_params` function):"
   ]
  },
  {
   "cell_type": "code",
   "execution_count": 15,
   "id": "0ed8bf6a",
   "metadata": {},
   "outputs": [
    {
     "data": {
      "text/html": [
       "<div>\n",
       "<style scoped>\n",
       "    .dataframe tbody tr th:only-of-type {\n",
       "        vertical-align: middle;\n",
       "    }\n",
       "\n",
       "    .dataframe tbody tr th {\n",
       "        vertical-align: top;\n",
       "    }\n",
       "\n",
       "    .dataframe thead th {\n",
       "        text-align: right;\n",
       "    }\n",
       "</style>\n",
       "<table border=\"1\" class=\"dataframe\">\n",
       "  <thead>\n",
       "    <tr style=\"text-align: right;\">\n",
       "      <th></th>\n",
       "      <th>mol2D</th>\n",
       "      <th>mol3D</th>\n",
       "      <th>cIR</th>\n",
       "      <th>cTZ</th>\n",
       "      <th>cMS</th>\n",
       "      <th>cUV</th>\n",
       "      <th>cGC</th>\n",
       "      <th>cTG</th>\n",
       "      <th>cTC</th>\n",
       "      <th>cTP</th>\n",
       "      <th>cSO</th>\n",
       "      <th>cTR</th>\n",
       "      <th>cIE</th>\n",
       "      <th>cIC</th>\n",
       "      <th>cES</th>\n",
       "      <th>cDI</th>\n",
       "    </tr>\n",
       "  </thead>\n",
       "  <tbody>\n",
       "    <tr>\n",
       "      <th>0</th>\n",
       "      <td>False</td>\n",
       "      <td>False</td>\n",
       "      <td>False</td>\n",
       "      <td>False</td>\n",
       "      <td>False</td>\n",
       "      <td>False</td>\n",
       "      <td>False</td>\n",
       "      <td>True</td>\n",
       "      <td>False</td>\n",
       "      <td>False</td>\n",
       "      <td>False</td>\n",
       "      <td>True</td>\n",
       "      <td>True</td>\n",
       "      <td>False</td>\n",
       "      <td>False</td>\n",
       "      <td>False</td>\n",
       "    </tr>\n",
       "    <tr>\n",
       "      <th>1</th>\n",
       "      <td>False</td>\n",
       "      <td>False</td>\n",
       "      <td>False</td>\n",
       "      <td>False</td>\n",
       "      <td>False</td>\n",
       "      <td>False</td>\n",
       "      <td>False</td>\n",
       "      <td>True</td>\n",
       "      <td>False</td>\n",
       "      <td>False</td>\n",
       "      <td>False</td>\n",
       "      <td>False</td>\n",
       "      <td>False</td>\n",
       "      <td>False</td>\n",
       "      <td>False</td>\n",
       "      <td>False</td>\n",
       "    </tr>\n",
       "    <tr>\n",
       "      <th>2</th>\n",
       "      <td>False</td>\n",
       "      <td>False</td>\n",
       "      <td>False</td>\n",
       "      <td>False</td>\n",
       "      <td>False</td>\n",
       "      <td>False</td>\n",
       "      <td>False</td>\n",
       "      <td>False</td>\n",
       "      <td>False</td>\n",
       "      <td>False</td>\n",
       "      <td>False</td>\n",
       "      <td>False</td>\n",
       "      <td>False</td>\n",
       "      <td>False</td>\n",
       "      <td>True</td>\n",
       "      <td>False</td>\n",
       "    </tr>\n",
       "    <tr>\n",
       "      <th>3</th>\n",
       "      <td>False</td>\n",
       "      <td>False</td>\n",
       "      <td>False</td>\n",
       "      <td>False</td>\n",
       "      <td>False</td>\n",
       "      <td>False</td>\n",
       "      <td>False</td>\n",
       "      <td>False</td>\n",
       "      <td>False</td>\n",
       "      <td>False</td>\n",
       "      <td>False</td>\n",
       "      <td>False</td>\n",
       "      <td>False</td>\n",
       "      <td>False</td>\n",
       "      <td>True</td>\n",
       "      <td>False</td>\n",
       "    </tr>\n",
       "    <tr>\n",
       "      <th>4</th>\n",
       "      <td>False</td>\n",
       "      <td>False</td>\n",
       "      <td>False</td>\n",
       "      <td>False</td>\n",
       "      <td>False</td>\n",
       "      <td>False</td>\n",
       "      <td>False</td>\n",
       "      <td>False</td>\n",
       "      <td>False</td>\n",
       "      <td>False</td>\n",
       "      <td>False</td>\n",
       "      <td>False</td>\n",
       "      <td>False</td>\n",
       "      <td>False</td>\n",
       "      <td>True</td>\n",
       "      <td>False</td>\n",
       "    </tr>\n",
       "    <tr>\n",
       "      <th>...</th>\n",
       "      <td>...</td>\n",
       "      <td>...</td>\n",
       "      <td>...</td>\n",
       "      <td>...</td>\n",
       "      <td>...</td>\n",
       "      <td>...</td>\n",
       "      <td>...</td>\n",
       "      <td>...</td>\n",
       "      <td>...</td>\n",
       "      <td>...</td>\n",
       "      <td>...</td>\n",
       "      <td>...</td>\n",
       "      <td>...</td>\n",
       "      <td>...</td>\n",
       "      <td>...</td>\n",
       "      <td>...</td>\n",
       "    </tr>\n",
       "    <tr>\n",
       "      <th>129000</th>\n",
       "      <td>True</td>\n",
       "      <td>False</td>\n",
       "      <td>False</td>\n",
       "      <td>False</td>\n",
       "      <td>True</td>\n",
       "      <td>False</td>\n",
       "      <td>True</td>\n",
       "      <td>False</td>\n",
       "      <td>False</td>\n",
       "      <td>False</td>\n",
       "      <td>False</td>\n",
       "      <td>False</td>\n",
       "      <td>False</td>\n",
       "      <td>False</td>\n",
       "      <td>False</td>\n",
       "      <td>False</td>\n",
       "    </tr>\n",
       "    <tr>\n",
       "      <th>129001</th>\n",
       "      <td>True</td>\n",
       "      <td>False</td>\n",
       "      <td>False</td>\n",
       "      <td>False</td>\n",
       "      <td>True</td>\n",
       "      <td>False</td>\n",
       "      <td>True</td>\n",
       "      <td>False</td>\n",
       "      <td>False</td>\n",
       "      <td>False</td>\n",
       "      <td>False</td>\n",
       "      <td>False</td>\n",
       "      <td>False</td>\n",
       "      <td>False</td>\n",
       "      <td>False</td>\n",
       "      <td>False</td>\n",
       "    </tr>\n",
       "    <tr>\n",
       "      <th>129002</th>\n",
       "      <td>True</td>\n",
       "      <td>False</td>\n",
       "      <td>False</td>\n",
       "      <td>False</td>\n",
       "      <td>True</td>\n",
       "      <td>False</td>\n",
       "      <td>True</td>\n",
       "      <td>False</td>\n",
       "      <td>False</td>\n",
       "      <td>False</td>\n",
       "      <td>False</td>\n",
       "      <td>False</td>\n",
       "      <td>False</td>\n",
       "      <td>False</td>\n",
       "      <td>False</td>\n",
       "      <td>False</td>\n",
       "    </tr>\n",
       "    <tr>\n",
       "      <th>129003</th>\n",
       "      <td>True</td>\n",
       "      <td>False</td>\n",
       "      <td>False</td>\n",
       "      <td>False</td>\n",
       "      <td>True</td>\n",
       "      <td>False</td>\n",
       "      <td>True</td>\n",
       "      <td>False</td>\n",
       "      <td>False</td>\n",
       "      <td>False</td>\n",
       "      <td>False</td>\n",
       "      <td>False</td>\n",
       "      <td>False</td>\n",
       "      <td>False</td>\n",
       "      <td>False</td>\n",
       "      <td>False</td>\n",
       "    </tr>\n",
       "    <tr>\n",
       "      <th>129004</th>\n",
       "      <td>False</td>\n",
       "      <td>False</td>\n",
       "      <td>False</td>\n",
       "      <td>False</td>\n",
       "      <td>False</td>\n",
       "      <td>False</td>\n",
       "      <td>False</td>\n",
       "      <td>False</td>\n",
       "      <td>False</td>\n",
       "      <td>False</td>\n",
       "      <td>False</td>\n",
       "      <td>False</td>\n",
       "      <td>True</td>\n",
       "      <td>False</td>\n",
       "      <td>False</td>\n",
       "      <td>False</td>\n",
       "    </tr>\n",
       "  </tbody>\n",
       "</table>\n",
       "<p>129005 rows × 16 columns</p>\n",
       "</div>"
      ],
      "text/plain": [
       "        mol2D  mol3D    cIR    cTZ    cMS    cUV    cGC    cTG    cTC    cTP  \\\n",
       "0       False  False  False  False  False  False  False   True  False  False   \n",
       "1       False  False  False  False  False  False  False   True  False  False   \n",
       "2       False  False  False  False  False  False  False  False  False  False   \n",
       "3       False  False  False  False  False  False  False  False  False  False   \n",
       "4       False  False  False  False  False  False  False  False  False  False   \n",
       "...       ...    ...    ...    ...    ...    ...    ...    ...    ...    ...   \n",
       "129000   True  False  False  False   True  False   True  False  False  False   \n",
       "129001   True  False  False  False   True  False   True  False  False  False   \n",
       "129002   True  False  False  False   True  False   True  False  False  False   \n",
       "129003   True  False  False  False   True  False   True  False  False  False   \n",
       "129004  False  False  False  False  False  False  False  False  False  False   \n",
       "\n",
       "          cSO    cTR    cIE    cIC    cES    cDI  \n",
       "0       False   True   True  False  False  False  \n",
       "1       False  False  False  False  False  False  \n",
       "2       False  False  False  False   True  False  \n",
       "3       False  False  False  False   True  False  \n",
       "4       False  False  False  False   True  False  \n",
       "...       ...    ...    ...    ...    ...    ...  \n",
       "129000  False  False  False  False  False  False  \n",
       "129001  False  False  False  False  False  False  \n",
       "129002  False  False  False  False  False  False  \n",
       "129003  False  False  False  False  False  False  \n",
       "129004  False  False   True  False  False  False  \n",
       "\n",
       "[129005 rows x 16 columns]"
      ]
     },
     "execution_count": 15,
     "metadata": {},
     "output_type": "execute_result"
    }
   ],
   "source": [
    "df.loc[:, df.columns[7:]]"
   ]
  },
  {
   "cell_type": "markdown",
   "id": "53520657",
   "metadata": {},
   "source": [
    "This data can be easily used to get the full list of compounds with the desired properties, and the use of chemoinformatic libraries will allow filtering substances by structure:"
   ]
  },
  {
   "cell_type": "code",
   "execution_count": 16,
   "id": "ff06ecdb",
   "metadata": {},
   "outputs": [
    {
     "data": {
      "text/plain": [
       "[Compound(C100016),\n",
       " Compound(C100027),\n",
       " Compound(C100094),\n",
       " Compound(C100107),\n",
       " Compound(C100129)]"
      ]
     },
     "execution_count": 16,
     "metadata": {},
     "output_type": "execute_result"
    }
   ],
   "source": [
    "IDs = df.ID[~df.inchi.isna() & df.cMS & df.cUV]\n",
    "compounds = [nist.Compound(ID) for ID in IDs[:5]]\n",
    "compounds"
   ]
  }
 ],
 "metadata": {
  "kernelspec": {
   "display_name": "Python 3 (ipykernel)",
   "language": "python",
   "name": "python3"
  },
  "language_info": {
   "codemirror_mode": {
    "name": "ipython",
    "version": 3
   },
   "file_extension": ".py",
   "mimetype": "text/x-python",
   "name": "python",
   "nbconvert_exporter": "python",
   "pygments_lexer": "ipython3",
   "version": "3.10.14"
  }
 },
 "nbformat": 4,
 "nbformat_minor": 5
}
