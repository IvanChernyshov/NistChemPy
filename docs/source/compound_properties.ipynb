{
 "cells": [
  {
   "cell_type": "markdown",
   "id": "cb74ce1f-c7c9-4916-a1b7-baab8ae661b0",
   "metadata": {},
   "source": [
    "# Compound properties"
   ]
  },
  {
   "cell_type": "markdown",
   "id": "9ffa0885-f936-47fb-a8a1-0acf229c6919",
   "metadata": {},
   "source": [
    "## Initialization\n",
    "\n",
    "NIST Chemistry WebBook compound can be initialized via NIST Compound ID, CAS Registry Number, or InChI string:"
   ]
  },
  {
   "cell_type": "code",
   "execution_count": 1,
   "id": "dbf6b78d-dc00-4ec2-ab0d-6008e3912258",
   "metadata": {},
   "outputs": [
    {
     "data": {
      "text/plain": [
       "NistCompound(ID=C632053)"
      ]
     },
     "execution_count": 1,
     "metadata": {},
     "output_type": "execute_result"
    }
   ],
   "source": [
    "import nistchempy as nist\n",
    "\n",
    "X = nist.get_compound('C632053')\n",
    "X"
   ]
  },
  {
   "cell_type": "code",
   "execution_count": 2,
   "id": "bea0e054-e0ec-4958-a3ea-6b8a344fb8db",
   "metadata": {},
   "outputs": [
    {
     "data": {
      "text/plain": [
       "NistCompound(ID=C632053)"
      ]
     },
     "execution_count": 2,
     "metadata": {},
     "output_type": "execute_result"
    }
   ],
   "source": [
    "X = nist.get_compound('632-05-3')\n",
    "X"
   ]
  },
  {
   "cell_type": "code",
   "execution_count": 3,
   "id": "f7a4c154-96d1-4749-9b15-288856ca9cfd",
   "metadata": {},
   "outputs": [
    {
     "data": {
      "text/plain": [
       "NistCompound(ID=C632053)"
      ]
     },
     "execution_count": 3,
     "metadata": {},
     "output_type": "execute_result"
    }
   ],
   "source": [
    "X = nist.get_compound('InChI=1S/C4H7Br3/c1-3(6)4(7)2-5/h3-4H,2H2,1H3')\n",
    "X"
   ]
  },
  {
   "cell_type": "markdown",
   "id": "078b752f-6f62-4920-b18b-5aec58022c2a",
   "metadata": {},
   "source": [
    "If there are no compound with given identifier in the NIST Chemistry WebBook database, `nist.get_compound` will return `None`. The same result will occur if multiple substances correspond to the given InChI."
   ]
  },
  {
   "cell_type": "markdown",
   "id": "9d715d52-7687-4bd6-938d-ca353b659f48",
   "metadata": {},
   "source": [
    "The other way of compound initialization is to run the search and load found compounds (see the **Basic Search** section of the CookBook)."
   ]
  },
  {
   "cell_type": "markdown",
   "id": "6b65ad21-fefd-4ce2-9097-fbf3d1c1bf06",
   "metadata": {},
   "source": [
    "## Properties\n",
    "\n",
    "The `nist.compound.NistCompound` object contains information extracted from the NIST Chemistry WebBook's compound web page. It can be divided into three groups:\n",
    "  - **Basic properties** — properties which are already extracted from the compound web page:\n",
    "      - `ID`: NIST Compound ID;\n",
    "      - `name`: chemical name;\n",
    "      - `synonyms`: synonyms;\n",
    "      - `formula`: chemical formula;\n",
    "      - `mol_weight`: molecular weigth;\n",
    "      - `inchi` / `inchi_key`: InChI / InChIKey strings;\n",
    "      - `cas_rn`: CAS Registry Number.\n",
    "  - **Reference properties** — dictionaries {property name => URL}. There are four subgroups:\n",
    "      - `mol_refs`: molecular properties, which are 2D and 3D MOL-files;\n",
    "      - `data_refs`: WebBook properties, which are stored in NIST Chemistry WebBook;\n",
    "      - `nist_public_refs`: other properties, which are stored in public NIST websites;\n",
    "      - `nist_subscription_refs`: other properties, which are stored in paid NIST websites.\n",
    "  - **Extracted properties** — properties extracted from the URLs provided by **reference properties**:\n",
    "      - `mol2D` / `mol3D`: text blocks of 2D / 3D MOL-files;\n",
    "      - `ir_specs` / `thz_specs` / `ms_specs` / `uv_specs`: JDX-formatted text blocks of IR / THz / MS / UV spectra."
   ]
  },
  {
   "cell_type": "code",
   "execution_count": 4,
   "id": "184aa682-2382-4111-a251-6e516d9f2afa",
   "metadata": {},
   "outputs": [
    {
     "data": {
      "text/plain": [
       "{'ID': 'C120127',\n",
       " 'name': 'Anthracene',\n",
       " 'synonyms': ['Anthracin',\n",
       "  'Green Oil',\n",
       "  'Paranaphthalene',\n",
       "  'Tetra Olive N2G',\n",
       "  'Anthracene oil',\n",
       "  'p-Naphthalene',\n",
       "  'Anthracen',\n",
       "  'Coal tar pitch volatiles:anthracene',\n",
       "  'Sterilite hop defoliant'],\n",
       " 'formula': 'C14 H10',\n",
       " 'mol_weight': 178.2292,\n",
       " 'inchi': 'InChI=1S/C14H10/c1-2-6-12-10-14-8-4-3-7-13(14)9-11(12)5-1/h1-10H',\n",
       " 'inchi_key': 'MWPLVEDNUUSJAV-UHFFFAOYSA-N',\n",
       " 'cas_rn': '120-12-7',\n",
       " 'mol_refs': {'mol2D': 'https://webbook.nist.gov/cgi/cbook.cgi?Str2File=C120127',\n",
       "  'mol3D': 'https://webbook.nist.gov/cgi/cbook.cgi?Str3File=C120127'},\n",
       " 'data_refs': {'cTG': 'https://webbook.nist.gov/cgi/cbook.cgi?ID=C120127&Units=SI&Mask=1#Thermo-Gas',\n",
       "  'cTC': 'https://webbook.nist.gov/cgi/cbook.cgi?ID=C120127&Units=SI&Mask=2#Thermo-Condensed',\n",
       "  'cTP': 'https://webbook.nist.gov/cgi/cbook.cgi?ID=C120127&Units=SI&Mask=4#Thermo-Phase',\n",
       "  'cTR': 'https://webbook.nist.gov/cgi/cbook.cgi?ID=C120127&Units=SI&Mask=8#Thermo-React',\n",
       "  'cSO': 'https://webbook.nist.gov/cgi/cbook.cgi?ID=C120127&Units=SI&Mask=10#Solubility',\n",
       "  'cIE': 'https://webbook.nist.gov/cgi/cbook.cgi?ID=C120127&Units=SI&Mask=20#Ion-Energetics',\n",
       "  'cIC': 'https://webbook.nist.gov/cgi/cbook.cgi?ID=C120127&Units=SI&Mask=40#Ion-Cluster',\n",
       "  'cIR': 'https://webbook.nist.gov/cgi/cbook.cgi?ID=C120127&Units=SI&Mask=80#IR-Spec',\n",
       "  'cMS': 'https://webbook.nist.gov/cgi/cbook.cgi?ID=C120127&Units=SI&Mask=200#Mass-Spec',\n",
       "  'cUV': 'https://webbook.nist.gov/cgi/cbook.cgi?ID=C120127&Units=SI&Mask=400#UV-Vis-Spec',\n",
       "  'cGC': 'https://webbook.nist.gov/cgi/cbook.cgi?ID=C120127&Units=SI&Mask=2000#Gas-Chrom'},\n",
       " 'nist_public_refs': {'Gas Phase Kinetics Database': 'https://kinetics.nist.gov/kinetics/rpSearch?cas=120127',\n",
       "  'X-ray Photoelectron Spectroscopy Database, version 5.0': 'https://srdata.nist.gov/xps/SpectralByCompdDd/21197',\n",
       "  'NIST Polycyclic Aromatic Hydrocarbon Structure Index': 'https://pah.nist.gov/?q=pah015'},\n",
       " 'nist_subscription_refs': {'NIST / TRC Web Thermo Tables, \"lite\" edition (thermophysical and thermochemical data)': 'https://wtt-lite.nist.gov/wtt-lite/index.html?cmp=anthracene',\n",
       "  'NIST / TRC Web Thermo Tables, professional edition (thermophysical and thermochemical data)': 'https://wtt-pro.nist.gov/wtt-pro/index.html?cmp=anthracene'},\n",
       " 'nist_response': NistResponse(ok=True, content_type='text/html; charset=UTF-8'),\n",
       " 'mol2D': None,\n",
       " 'mol3D': None,\n",
       " 'ir_specs': [],\n",
       " 'thz_specs': [],\n",
       " 'ms_specs': [],\n",
       " 'uv_specs': []}"
      ]
     },
     "execution_count": 4,
     "metadata": {},
     "output_type": "execute_result"
    }
   ],
   "source": [
    "# anthracene example\n",
    "s = nist.run_search('anthracene', 'name')\n",
    "X = s.compounds[0]\n",
    "X.__dict__"
   ]
  },
  {
   "cell_type": "markdown",
   "id": "fc7d0742-ae64-422a-999e-e7f1da5f2330",
   "metadata": {},
   "source": [
    "## MOL-files\n",
    "\n",
    "To load MOL-files, one can use `get_mol2D`, `get_mol3D`, or `get_molfiles` methods:"
   ]
  },
  {
   "cell_type": "code",
   "execution_count": 5,
   "id": "369bc56f-fb93-4a61-90be-7bda1e432376",
   "metadata": {},
   "outputs": [
    {
     "data": {
      "text/plain": [
       "(False, False)"
      ]
     },
     "execution_count": 5,
     "metadata": {},
     "output_type": "execute_result"
    }
   ],
   "source": [
    "X.get_molfiles()\n",
    "X.mol2D is None, X.mol3D is None"
   ]
  },
  {
   "cell_type": "code",
   "execution_count": 6,
   "id": "b80185db-4e89-4d9e-8d59-f62b7579b8c1",
   "metadata": {},
   "outputs": [
    {
     "data": {
      "image/png": "[encoded data removed]",
      "text/plain": [
       "<rdkit.Chem.rdchem.Mol at 0x1a3fe19d000>"
      ]
     },
     "execution_count": 6,
     "metadata": {},
     "output_type": "execute_result"
    }
   ],
   "source": [
    "from rdkit import Chem\n",
    "\n",
    "mol = Chem.MolFromMolBlock(X.mol2D)\n",
    "mol"
   ]
  },
  {
   "cell_type": "markdown",
   "id": "9e5fc177-d6d4-4f3d-abab-463ece22baff",
   "metadata": {},
   "source": [
    "## Spectra\n",
    "\n",
    "To load spectra, one can use `get_ir_spectra`, `get_thz_spectra`, `get_ms_spectra`, `get_uv_spectra`, and `get_all_spectra` methods:"
   ]
  },
  {
   "cell_type": "code",
   "execution_count": 7,
   "id": "1144e47e-a659-49a3-81e1-6876706eaf65",
   "metadata": {},
   "outputs": [
    {
     "data": {
      "text/plain": [
       "([], [], [], [])"
      ]
     },
     "execution_count": 7,
     "metadata": {},
     "output_type": "execute_result"
    }
   ],
   "source": [
    "X.ir_specs, X.thz_specs, X.ms_specs, X.uv_specs"
   ]
  },
  {
   "cell_type": "code",
   "execution_count": 8,
   "id": "3960b362-89cd-4153-a658-24aaf4e50ee5",
   "metadata": {},
   "outputs": [
    {
     "data": {
      "text/plain": [
       "([], [], [Spectrum(C120127, Mass spectrum #0)], [])"
      ]
     },
     "execution_count": 8,
     "metadata": {},
     "output_type": "execute_result"
    }
   ],
   "source": [
    "X.get_ms_spectra()\n",
    "X.ir_specs, X.thz_specs, X.ms_specs, X.uv_specs"
   ]
  },
  {
   "cell_type": "markdown",
   "id": "58cc075d-5efc-4558-8b88-e1f159a4bb74",
   "metadata": {},
   "source": [
    "Spectrum object contains JDX-formatted text block of the spectrum which includes both meta-information and spectral data:"
   ]
  },
  {
   "cell_type": "code",
   "execution_count": 9,
   "id": "33060848-c874-448a-aa12-47b8c5c4cdd4",
   "metadata": {},
   "outputs": [
    {
     "name": "stdout",
     "output_type": "stream",
     "text": [
      "##TITLE=Anthracene\n",
      "##JCAMP-DX=4.24\n",
      "##DATA TYPE=MASS SPECTRUM\n",
      "##ORIGIN=Japan AIST/NIMC Database- Spectrum MS-NW- 132\n",
      "##OWNER=NIST Mass Spectrometry Data Center\n",
      "Collection (C) 2014 copyright by the U.S. Secretary of Commerce\n",
      "on behalf of the United States of America. All rights reserved.\n",
      "##CAS REGISTRY NO=120-12-7\n",
      "##$NIST MASS SPEC NO=228201\n",
      "##MOLFORM=C14 H10\n",
      "##MW=178\n",
      "##$NIST SOURCE=MSDC\n",
      "##XUNITS=M/Z\n",
      "##YUNITS=RELATIVE INTENSITY\n",
      "##XFACTOR=1\n",
      "##YFACTOR=1\n",
      "##FIRSTX=27\n",
      "##LASTX=181\n",
      "##FIRSTY=20\n",
      "##MAXX=181\n",
      "##MINX=27\n",
      "##MAXY=9999\n",
      "##MINY=10\n",
      "##NPOINTS=62\n",
      "##PEAK TABLE=(XY..XY)\n",
      "27,20 28,10 38,30 39,109\n",
      "50,129 51,129 52,30 61,40\n",
      "62,129 63,289 64,20 65,20\n",
      "69,20 73,10 74,219 75,299\n",
      "76,619 77,80 78,10 83,50\n",
      "85,30 86,99 87,169 88,439\n",
      "89,759 90,10 98,119 99,90\n",
      "100,50 101,50 102,60 110,40\n",
      "111,50 113,60 114,20 115,50\n",
      "122,40 123,20 124,20 125,50\n",
      "126,149 127,60 128,80 137,30\n",
      "138,30 139,209 140,80 149,70\n",
      "150,419 151,629 152,689 153,80\n",
      "163,50 164,20 174,129 175,199\n",
      "176,1409 177,799 178,9999 179,1569\n",
      "180,149 181,30\n",
      "##END=\n",
      "\n"
     ]
    }
   ],
   "source": [
    "ms = X.ms_specs[0]\n",
    "print(ms.jdx_text)"
   ]
  },
  {
   "cell_type": "markdown",
   "id": "f294f4e8-ada0-4a96-a3eb-16f7bbc7cfc5",
   "metadata": {},
   "source": [
    "Spectra of the given compound can be saved to the given directory via `save_ir_spectra`, `save_ir_spectra`, `save_ir_spectra`, `save_ir_spectra`, `save_all_spectra` methods of the `nist.compound.NistCompound` object. To save the specific spectrum, one can use the `save` method of the `nist.compound.Spectrum` object."
   ]
  }
 ],
 "metadata": {
  "kernelspec": {
   "display_name": "Python 3 (ipykernel)",
   "language": "python",
   "name": "python3"
  },
  "language_info": {
   "codemirror_mode": {
    "name": "ipython",
    "version": 3
   },
   "file_extension": ".py",
   "mimetype": "text/x-python",
   "name": "python",
   "nbconvert_exporter": "python",
   "pygments_lexer": "ipython3",
   "version": "3.10.14"
  }
 },
 "nbformat": 4,
 "nbformat_minor": 5
}
